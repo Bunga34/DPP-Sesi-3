{
 "cells": [
  {
   "cell_type": "markdown",
   "metadata": {},
   "source": [
    "Nama : Bunga Mutiara Sagita Nabila\n",
    "Nim : 20230040258\n",
    "Kelas : TI23H"
   ]
  },
  {
   "cell_type": "code",
   "execution_count": 10,
   "metadata": {},
   "outputs": [
    {
     "name": "stdout",
     "output_type": "stream",
     "text": [
      "Jumlah Kembalian Udin Adalah: Rp. 54000\n"
     ]
    }
   ],
   "source": [
    "Uang_Udin = 100000\n",
    "Harga_Rokok = 20000\n",
    "Harga_Minyak = 25000\n",
    "Harga_Gula = 11000\n",
    "Diskon = 10000\n",
    "\n",
    "Total_Harga = Harga_Rokok + Harga_Minyak + Harga_Gula\n",
    "Kemlaian = Uang_Udin - Total_Harga + Diskon\n",
    "print(\"Jumlah Kembalian Udin Adalah: Rp.\",Kemlaian)"
   ]
  }
 ],
 "metadata": {
  "kernelspec": {
   "display_name": "Python 3",
   "language": "python",
   "name": "python3"
  },
  "language_info": {
   "codemirror_mode": {
    "name": "ipython",
    "version": 3
   },
   "file_extension": ".py",
   "mimetype": "text/x-python",
   "name": "python",
   "nbconvert_exporter": "python",
   "pygments_lexer": "ipython3",
   "version": "3.11.2"
  }
 },
 "nbformat": 4,
 "nbformat_minor": 2
}
